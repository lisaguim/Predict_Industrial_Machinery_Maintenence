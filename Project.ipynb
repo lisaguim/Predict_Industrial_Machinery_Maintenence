{
 "cells": [
  {
   "cell_type": "markdown",
   "id": "6023c322",
   "metadata": {},
   "source": [
    "### Libraries"
   ]
  },
  {
   "cell_type": "code",
   "execution_count": 1,
   "id": "8b36a592",
   "metadata": {},
   "outputs": [
    {
     "name": "stderr",
     "output_type": "stream",
     "text": [
      "WARNING: Ignoring invalid distribution -cipy (c:\\users\\elisa\\anaconda3\\lib\\site-packages)\n",
      "WARNING: Ignoring invalid distribution -cipy (c:\\users\\elisa\\anaconda3\\lib\\site-packages)\n",
      "WARNING: Ignoring invalid distribution -cipy (c:\\users\\elisa\\anaconda3\\lib\\site-packages)\n",
      "WARNING: Ignoring invalid distribution -cipy (c:\\users\\elisa\\anaconda3\\lib\\site-packages)\n",
      "WARNING: Ignoring invalid distribution -cipy (c:\\users\\elisa\\anaconda3\\lib\\site-packages)\n",
      "WARNING: Ignoring invalid distribution -cipy (c:\\users\\elisa\\anaconda3\\lib\\site-packages)\n"
     ]
    }
   ],
   "source": [
    "!pip install -q xgboost"
   ]
  },
  {
   "cell_type": "code",
   "execution_count": 2,
   "id": "3aab4335",
   "metadata": {},
   "outputs": [
    {
     "name": "stderr",
     "output_type": "stream",
     "text": [
      "C:\\Users\\Elisa\\anaconda3\\lib\\site-packages\\pandas\\core\\computation\\expressions.py:21: UserWarning: Pandas requires version '2.8.4' or newer of 'numexpr' (version '2.8.3' currently installed).\n",
      "  from pandas.core.computation.check import NUMEXPR_INSTALLED\n",
      "C:\\Users\\Elisa\\anaconda3\\lib\\site-packages\\pandas\\core\\arrays\\masked.py:60: UserWarning: Pandas requires version '1.3.6' or newer of 'bottleneck' (version '1.3.5' currently installed).\n",
      "  from pandas.core import (\n"
     ]
    }
   ],
   "source": [
    "import pickle\n",
    "import sklearn as sk\n",
    "import pandas as pd\n",
    "import numpy as np\n",
    "import seaborn as sns\n",
    "import matplotlib.pyplot as plt\n",
    "import xgboost as xgb\n",
    "from xgboost import XGBClassifier\n",
    "from sklearn.linear_model import LogisticRegression\n",
    "from sklearn.naive_bayes import GaussianNB\n",
    "from sklearn.preprocessing import StandardScaler\n",
    "from sklearn.model_selection import cross_val_score, GridSearchCV\n",
    "from sklearn.metrics import roc_auc_score, accuracy_score, precision_score, recall_score, roc_curve\n",
    "from scipy.stats import shapiro"
   ]
  },
  {
   "cell_type": "markdown",
   "id": "06c10022",
   "metadata": {},
   "source": [
    "### Upload dataset"
   ]
  },
  {
   "cell_type": "code",
   "execution_count": 3,
   "id": "c08536fe",
   "metadata": {},
   "outputs": [],
   "source": [
    "df = pd.read_csv('sensors-dataset.csv')"
   ]
  },
  {
   "cell_type": "code",
   "execution_count": 4,
   "id": "c6c2e85b",
   "metadata": {},
   "outputs": [
    {
     "data": {
      "text/plain": [
       "(11500, 179)"
      ]
     },
     "execution_count": 4,
     "metadata": {},
     "output_type": "execute_result"
    }
   ],
   "source": [
    "df.shape"
   ]
  },
  {
   "cell_type": "code",
   "execution_count": 5,
   "id": "67413bc1",
   "metadata": {},
   "outputs": [
    {
     "data": {
      "text/html": [
       "<div>\n",
       "<style scoped>\n",
       "    .dataframe tbody tr th:only-of-type {\n",
       "        vertical-align: middle;\n",
       "    }\n",
       "\n",
       "    .dataframe tbody tr th {\n",
       "        vertical-align: top;\n",
       "    }\n",
       "\n",
       "    .dataframe thead th {\n",
       "        text-align: right;\n",
       "    }\n",
       "</style>\n",
       "<table border=\"1\" class=\"dataframe\">\n",
       "  <thead>\n",
       "    <tr style=\"text-align: right;\">\n",
       "      <th></th>\n",
       "      <th>X1</th>\n",
       "      <th>X2</th>\n",
       "      <th>X3</th>\n",
       "      <th>X4</th>\n",
       "      <th>X5</th>\n",
       "      <th>X6</th>\n",
       "      <th>X7</th>\n",
       "      <th>X8</th>\n",
       "      <th>X9</th>\n",
       "      <th>X10</th>\n",
       "      <th>...</th>\n",
       "      <th>X170</th>\n",
       "      <th>X171</th>\n",
       "      <th>X172</th>\n",
       "      <th>X173</th>\n",
       "      <th>X174</th>\n",
       "      <th>X175</th>\n",
       "      <th>X176</th>\n",
       "      <th>X177</th>\n",
       "      <th>X178</th>\n",
       "      <th>target_variable</th>\n",
       "    </tr>\n",
       "  </thead>\n",
       "  <tbody>\n",
       "    <tr>\n",
       "      <th>0</th>\n",
       "      <td>135</td>\n",
       "      <td>190</td>\n",
       "      <td>229</td>\n",
       "      <td>223</td>\n",
       "      <td>192</td>\n",
       "      <td>125</td>\n",
       "      <td>55</td>\n",
       "      <td>-9</td>\n",
       "      <td>-33</td>\n",
       "      <td>-38</td>\n",
       "      <td>...</td>\n",
       "      <td>-17</td>\n",
       "      <td>-15</td>\n",
       "      <td>-31</td>\n",
       "      <td>-77</td>\n",
       "      <td>-103</td>\n",
       "      <td>-127</td>\n",
       "      <td>-116</td>\n",
       "      <td>-83</td>\n",
       "      <td>-51</td>\n",
       "      <td>0</td>\n",
       "    </tr>\n",
       "    <tr>\n",
       "      <th>1</th>\n",
       "      <td>386</td>\n",
       "      <td>382</td>\n",
       "      <td>356</td>\n",
       "      <td>331</td>\n",
       "      <td>320</td>\n",
       "      <td>315</td>\n",
       "      <td>307</td>\n",
       "      <td>272</td>\n",
       "      <td>244</td>\n",
       "      <td>232</td>\n",
       "      <td>...</td>\n",
       "      <td>164</td>\n",
       "      <td>150</td>\n",
       "      <td>146</td>\n",
       "      <td>152</td>\n",
       "      <td>157</td>\n",
       "      <td>156</td>\n",
       "      <td>154</td>\n",
       "      <td>143</td>\n",
       "      <td>129</td>\n",
       "      <td>1</td>\n",
       "    </tr>\n",
       "    <tr>\n",
       "      <th>2</th>\n",
       "      <td>-32</td>\n",
       "      <td>-39</td>\n",
       "      <td>-47</td>\n",
       "      <td>-37</td>\n",
       "      <td>-32</td>\n",
       "      <td>-36</td>\n",
       "      <td>-57</td>\n",
       "      <td>-73</td>\n",
       "      <td>-85</td>\n",
       "      <td>-94</td>\n",
       "      <td>...</td>\n",
       "      <td>57</td>\n",
       "      <td>64</td>\n",
       "      <td>48</td>\n",
       "      <td>19</td>\n",
       "      <td>-12</td>\n",
       "      <td>-30</td>\n",
       "      <td>-35</td>\n",
       "      <td>-35</td>\n",
       "      <td>-36</td>\n",
       "      <td>0</td>\n",
       "    </tr>\n",
       "    <tr>\n",
       "      <th>3</th>\n",
       "      <td>-105</td>\n",
       "      <td>-101</td>\n",
       "      <td>-96</td>\n",
       "      <td>-92</td>\n",
       "      <td>-89</td>\n",
       "      <td>-95</td>\n",
       "      <td>-102</td>\n",
       "      <td>-100</td>\n",
       "      <td>-87</td>\n",
       "      <td>-79</td>\n",
       "      <td>...</td>\n",
       "      <td>-82</td>\n",
       "      <td>-81</td>\n",
       "      <td>-80</td>\n",
       "      <td>-77</td>\n",
       "      <td>-85</td>\n",
       "      <td>-77</td>\n",
       "      <td>-72</td>\n",
       "      <td>-69</td>\n",
       "      <td>-65</td>\n",
       "      <td>0</td>\n",
       "    </tr>\n",
       "    <tr>\n",
       "      <th>4</th>\n",
       "      <td>-9</td>\n",
       "      <td>-65</td>\n",
       "      <td>-98</td>\n",
       "      <td>-102</td>\n",
       "      <td>-78</td>\n",
       "      <td>-48</td>\n",
       "      <td>-16</td>\n",
       "      <td>0</td>\n",
       "      <td>-21</td>\n",
       "      <td>-59</td>\n",
       "      <td>...</td>\n",
       "      <td>4</td>\n",
       "      <td>2</td>\n",
       "      <td>-12</td>\n",
       "      <td>-32</td>\n",
       "      <td>-41</td>\n",
       "      <td>-65</td>\n",
       "      <td>-83</td>\n",
       "      <td>-89</td>\n",
       "      <td>-73</td>\n",
       "      <td>0</td>\n",
       "    </tr>\n",
       "  </tbody>\n",
       "</table>\n",
       "<p>5 rows × 179 columns</p>\n",
       "</div>"
      ],
      "text/plain": [
       "    X1   X2   X3   X4   X5   X6   X7   X8   X9  X10  ...  X170  X171  X172  \\\n",
       "0  135  190  229  223  192  125   55   -9  -33  -38  ...   -17   -15   -31   \n",
       "1  386  382  356  331  320  315  307  272  244  232  ...   164   150   146   \n",
       "2  -32  -39  -47  -37  -32  -36  -57  -73  -85  -94  ...    57    64    48   \n",
       "3 -105 -101  -96  -92  -89  -95 -102 -100  -87  -79  ...   -82   -81   -80   \n",
       "4   -9  -65  -98 -102  -78  -48  -16    0  -21  -59  ...     4     2   -12   \n",
       "\n",
       "   X173  X174  X175  X176  X177  X178  target_variable  \n",
       "0   -77  -103  -127  -116   -83   -51                0  \n",
       "1   152   157   156   154   143   129                1  \n",
       "2    19   -12   -30   -35   -35   -36                0  \n",
       "3   -77   -85   -77   -72   -69   -65                0  \n",
       "4   -32   -41   -65   -83   -89   -73                0  \n",
       "\n",
       "[5 rows x 179 columns]"
      ]
     },
     "execution_count": 5,
     "metadata": {},
     "output_type": "execute_result"
    }
   ],
   "source": [
    "df.head()"
   ]
  },
  {
   "cell_type": "markdown",
   "id": "c87f3e80",
   "metadata": {},
   "source": [
    "### Explory Analysis"
   ]
  },
  {
   "cell_type": "code",
   "execution_count": 6,
   "id": "dee22c7c",
   "metadata": {},
   "outputs": [
    {
     "data": {
      "text/html": [
       "<div>\n",
       "<style scoped>\n",
       "    .dataframe tbody tr th:only-of-type {\n",
       "        vertical-align: middle;\n",
       "    }\n",
       "\n",
       "    .dataframe tbody tr th {\n",
       "        vertical-align: top;\n",
       "    }\n",
       "\n",
       "    .dataframe thead th {\n",
       "        text-align: right;\n",
       "    }\n",
       "</style>\n",
       "<table border=\"1\" class=\"dataframe\">\n",
       "  <thead>\n",
       "    <tr style=\"text-align: right;\">\n",
       "      <th></th>\n",
       "      <th>X1</th>\n",
       "      <th>X2</th>\n",
       "      <th>X3</th>\n",
       "      <th>X4</th>\n",
       "      <th>X5</th>\n",
       "      <th>X6</th>\n",
       "      <th>X7</th>\n",
       "      <th>X8</th>\n",
       "      <th>X9</th>\n",
       "      <th>X10</th>\n",
       "      <th>...</th>\n",
       "      <th>X170</th>\n",
       "      <th>X171</th>\n",
       "      <th>X172</th>\n",
       "      <th>X173</th>\n",
       "      <th>X174</th>\n",
       "      <th>X175</th>\n",
       "      <th>X176</th>\n",
       "      <th>X177</th>\n",
       "      <th>X178</th>\n",
       "      <th>target_variable</th>\n",
       "    </tr>\n",
       "  </thead>\n",
       "  <tbody>\n",
       "    <tr>\n",
       "      <th>count</th>\n",
       "      <td>11500.000000</td>\n",
       "      <td>11500.000000</td>\n",
       "      <td>11500.000000</td>\n",
       "      <td>11500.000000</td>\n",
       "      <td>11500.000000</td>\n",
       "      <td>11500.000000</td>\n",
       "      <td>11500.000000</td>\n",
       "      <td>11500.00000</td>\n",
       "      <td>11500.00000</td>\n",
       "      <td>11500.000000</td>\n",
       "      <td>...</td>\n",
       "      <td>11500.000000</td>\n",
       "      <td>11500.000000</td>\n",
       "      <td>11500.000000</td>\n",
       "      <td>11500.000000</td>\n",
       "      <td>11500.000000</td>\n",
       "      <td>11500.000000</td>\n",
       "      <td>11500.000000</td>\n",
       "      <td>11500.000000</td>\n",
       "      <td>11500.000000</td>\n",
       "      <td>11500.000000</td>\n",
       "    </tr>\n",
       "    <tr>\n",
       "      <th>mean</th>\n",
       "      <td>-11.581391</td>\n",
       "      <td>-10.911565</td>\n",
       "      <td>-10.187130</td>\n",
       "      <td>-9.143043</td>\n",
       "      <td>-8.009739</td>\n",
       "      <td>-7.003478</td>\n",
       "      <td>-6.502087</td>\n",
       "      <td>-6.68713</td>\n",
       "      <td>-6.55800</td>\n",
       "      <td>-6.168435</td>\n",
       "      <td>...</td>\n",
       "      <td>-10.145739</td>\n",
       "      <td>-11.630348</td>\n",
       "      <td>-12.943478</td>\n",
       "      <td>-13.668870</td>\n",
       "      <td>-13.363304</td>\n",
       "      <td>-13.045043</td>\n",
       "      <td>-12.705130</td>\n",
       "      <td>-12.426000</td>\n",
       "      <td>-12.195652</td>\n",
       "      <td>0.200000</td>\n",
       "    </tr>\n",
       "    <tr>\n",
       "      <th>std</th>\n",
       "      <td>165.626284</td>\n",
       "      <td>166.059609</td>\n",
       "      <td>163.524317</td>\n",
       "      <td>161.269041</td>\n",
       "      <td>160.998007</td>\n",
       "      <td>161.328725</td>\n",
       "      <td>161.467837</td>\n",
       "      <td>162.11912</td>\n",
       "      <td>162.03336</td>\n",
       "      <td>160.436352</td>\n",
       "      <td>...</td>\n",
       "      <td>164.652883</td>\n",
       "      <td>166.149790</td>\n",
       "      <td>168.554058</td>\n",
       "      <td>168.556486</td>\n",
       "      <td>167.257290</td>\n",
       "      <td>164.241019</td>\n",
       "      <td>162.895832</td>\n",
       "      <td>162.886311</td>\n",
       "      <td>164.852015</td>\n",
       "      <td>0.400017</td>\n",
       "    </tr>\n",
       "    <tr>\n",
       "      <th>min</th>\n",
       "      <td>-1839.000000</td>\n",
       "      <td>-1838.000000</td>\n",
       "      <td>-1835.000000</td>\n",
       "      <td>-1845.000000</td>\n",
       "      <td>-1791.000000</td>\n",
       "      <td>-1757.000000</td>\n",
       "      <td>-1832.000000</td>\n",
       "      <td>-1778.00000</td>\n",
       "      <td>-1840.00000</td>\n",
       "      <td>-1867.000000</td>\n",
       "      <td>...</td>\n",
       "      <td>-1867.000000</td>\n",
       "      <td>-1865.000000</td>\n",
       "      <td>-1642.000000</td>\n",
       "      <td>-1723.000000</td>\n",
       "      <td>-1866.000000</td>\n",
       "      <td>-1863.000000</td>\n",
       "      <td>-1781.000000</td>\n",
       "      <td>-1727.000000</td>\n",
       "      <td>-1829.000000</td>\n",
       "      <td>0.000000</td>\n",
       "    </tr>\n",
       "    <tr>\n",
       "      <th>25%</th>\n",
       "      <td>-54.000000</td>\n",
       "      <td>-55.000000</td>\n",
       "      <td>-54.000000</td>\n",
       "      <td>-54.000000</td>\n",
       "      <td>-54.000000</td>\n",
       "      <td>-54.000000</td>\n",
       "      <td>-54.000000</td>\n",
       "      <td>-55.00000</td>\n",
       "      <td>-55.00000</td>\n",
       "      <td>-54.000000</td>\n",
       "      <td>...</td>\n",
       "      <td>-55.000000</td>\n",
       "      <td>-56.000000</td>\n",
       "      <td>-56.000000</td>\n",
       "      <td>-56.000000</td>\n",
       "      <td>-55.000000</td>\n",
       "      <td>-56.000000</td>\n",
       "      <td>-55.000000</td>\n",
       "      <td>-55.000000</td>\n",
       "      <td>-55.000000</td>\n",
       "      <td>0.000000</td>\n",
       "    </tr>\n",
       "    <tr>\n",
       "      <th>50%</th>\n",
       "      <td>-8.000000</td>\n",
       "      <td>-8.000000</td>\n",
       "      <td>-7.000000</td>\n",
       "      <td>-8.000000</td>\n",
       "      <td>-8.000000</td>\n",
       "      <td>-8.000000</td>\n",
       "      <td>-8.000000</td>\n",
       "      <td>-8.00000</td>\n",
       "      <td>-7.00000</td>\n",
       "      <td>-7.000000</td>\n",
       "      <td>...</td>\n",
       "      <td>-9.000000</td>\n",
       "      <td>-10.000000</td>\n",
       "      <td>-10.000000</td>\n",
       "      <td>-10.000000</td>\n",
       "      <td>-10.000000</td>\n",
       "      <td>-9.000000</td>\n",
       "      <td>-9.000000</td>\n",
       "      <td>-9.000000</td>\n",
       "      <td>-9.000000</td>\n",
       "      <td>0.000000</td>\n",
       "    </tr>\n",
       "    <tr>\n",
       "      <th>75%</th>\n",
       "      <td>34.000000</td>\n",
       "      <td>35.000000</td>\n",
       "      <td>36.000000</td>\n",
       "      <td>36.000000</td>\n",
       "      <td>35.000000</td>\n",
       "      <td>36.000000</td>\n",
       "      <td>35.000000</td>\n",
       "      <td>36.00000</td>\n",
       "      <td>36.00000</td>\n",
       "      <td>35.250000</td>\n",
       "      <td>...</td>\n",
       "      <td>34.000000</td>\n",
       "      <td>34.000000</td>\n",
       "      <td>33.000000</td>\n",
       "      <td>33.000000</td>\n",
       "      <td>34.000000</td>\n",
       "      <td>34.000000</td>\n",
       "      <td>34.000000</td>\n",
       "      <td>34.000000</td>\n",
       "      <td>34.000000</td>\n",
       "      <td>0.000000</td>\n",
       "    </tr>\n",
       "    <tr>\n",
       "      <th>max</th>\n",
       "      <td>1726.000000</td>\n",
       "      <td>1713.000000</td>\n",
       "      <td>1697.000000</td>\n",
       "      <td>1612.000000</td>\n",
       "      <td>1518.000000</td>\n",
       "      <td>1816.000000</td>\n",
       "      <td>2047.000000</td>\n",
       "      <td>2047.00000</td>\n",
       "      <td>2047.00000</td>\n",
       "      <td>2047.000000</td>\n",
       "      <td>...</td>\n",
       "      <td>1777.000000</td>\n",
       "      <td>1472.000000</td>\n",
       "      <td>1319.000000</td>\n",
       "      <td>1436.000000</td>\n",
       "      <td>1733.000000</td>\n",
       "      <td>1958.000000</td>\n",
       "      <td>2047.000000</td>\n",
       "      <td>2047.000000</td>\n",
       "      <td>1915.000000</td>\n",
       "      <td>1.000000</td>\n",
       "    </tr>\n",
       "  </tbody>\n",
       "</table>\n",
       "<p>8 rows × 179 columns</p>\n",
       "</div>"
      ],
      "text/plain": [
       "                 X1            X2            X3            X4            X5  \\\n",
       "count  11500.000000  11500.000000  11500.000000  11500.000000  11500.000000   \n",
       "mean     -11.581391    -10.911565    -10.187130     -9.143043     -8.009739   \n",
       "std      165.626284    166.059609    163.524317    161.269041    160.998007   \n",
       "min    -1839.000000  -1838.000000  -1835.000000  -1845.000000  -1791.000000   \n",
       "25%      -54.000000    -55.000000    -54.000000    -54.000000    -54.000000   \n",
       "50%       -8.000000     -8.000000     -7.000000     -8.000000     -8.000000   \n",
       "75%       34.000000     35.000000     36.000000     36.000000     35.000000   \n",
       "max     1726.000000   1713.000000   1697.000000   1612.000000   1518.000000   \n",
       "\n",
       "                 X6            X7           X8           X9           X10  \\\n",
       "count  11500.000000  11500.000000  11500.00000  11500.00000  11500.000000   \n",
       "mean      -7.003478     -6.502087     -6.68713     -6.55800     -6.168435   \n",
       "std      161.328725    161.467837    162.11912    162.03336    160.436352   \n",
       "min    -1757.000000  -1832.000000  -1778.00000  -1840.00000  -1867.000000   \n",
       "25%      -54.000000    -54.000000    -55.00000    -55.00000    -54.000000   \n",
       "50%       -8.000000     -8.000000     -8.00000     -7.00000     -7.000000   \n",
       "75%       36.000000     35.000000     36.00000     36.00000     35.250000   \n",
       "max     1816.000000   2047.000000   2047.00000   2047.00000   2047.000000   \n",
       "\n",
       "       ...          X170          X171          X172          X173  \\\n",
       "count  ...  11500.000000  11500.000000  11500.000000  11500.000000   \n",
       "mean   ...    -10.145739    -11.630348    -12.943478    -13.668870   \n",
       "std    ...    164.652883    166.149790    168.554058    168.556486   \n",
       "min    ...  -1867.000000  -1865.000000  -1642.000000  -1723.000000   \n",
       "25%    ...    -55.000000    -56.000000    -56.000000    -56.000000   \n",
       "50%    ...     -9.000000    -10.000000    -10.000000    -10.000000   \n",
       "75%    ...     34.000000     34.000000     33.000000     33.000000   \n",
       "max    ...   1777.000000   1472.000000   1319.000000   1436.000000   \n",
       "\n",
       "               X174          X175          X176          X177          X178  \\\n",
       "count  11500.000000  11500.000000  11500.000000  11500.000000  11500.000000   \n",
       "mean     -13.363304    -13.045043    -12.705130    -12.426000    -12.195652   \n",
       "std      167.257290    164.241019    162.895832    162.886311    164.852015   \n",
       "min    -1866.000000  -1863.000000  -1781.000000  -1727.000000  -1829.000000   \n",
       "25%      -55.000000    -56.000000    -55.000000    -55.000000    -55.000000   \n",
       "50%      -10.000000     -9.000000     -9.000000     -9.000000     -9.000000   \n",
       "75%       34.000000     34.000000     34.000000     34.000000     34.000000   \n",
       "max     1733.000000   1958.000000   2047.000000   2047.000000   1915.000000   \n",
       "\n",
       "       target_variable  \n",
       "count     11500.000000  \n",
       "mean          0.200000  \n",
       "std           0.400017  \n",
       "min           0.000000  \n",
       "25%           0.000000  \n",
       "50%           0.000000  \n",
       "75%           0.000000  \n",
       "max           1.000000  \n",
       "\n",
       "[8 rows x 179 columns]"
      ]
     },
     "execution_count": 6,
     "metadata": {},
     "output_type": "execute_result"
    }
   ],
   "source": [
    "# brief stats\n",
    "df.describe()"
   ]
  },
  {
   "cell_type": "code",
   "execution_count": 7,
   "id": "9099deb7",
   "metadata": {},
   "outputs": [
    {
     "name": "stdout",
     "output_type": "stream",
     "text": [
      "Number of columns: 179\n"
     ]
    }
   ],
   "source": [
    "print(\"Number of columns:\", len(df.columns))"
   ]
  },
  {
   "cell_type": "code",
   "execution_count": 8,
   "id": "22e63caa",
   "metadata": {},
   "outputs": [
    {
     "data": {
      "text/plain": [
       "0"
      ]
     },
     "execution_count": 8,
     "metadata": {},
     "output_type": "execute_result"
    }
   ],
   "source": [
    "# checking null values\n",
    "df.isna().sum().sum()"
   ]
  },
  {
   "cell_type": "markdown",
   "id": "7155bbb6",
   "metadata": {},
   "source": [
    "#### Checking Positive Class Prevalence\n",
    "\n",
    "Prevalence is the percentage of samples that have the characteristic we're trying to predict. In this specific scenario, it means that machines that required maintenance represent the positive class (event occurrence), while those that did not require maintenance represent the negative class (event non-occurrence).\n",
    "\n",
    "The rate is calculated by (number of positive samples / number of samples). Therefore, a prevalence rate of 0.2 means that 20% of our sample are machines that required maintenance."
   ]
  },
  {
   "cell_type": "code",
   "execution_count": 9,
   "id": "694ed8d0",
   "metadata": {},
   "outputs": [],
   "source": [
    "def df_prevalence(y_actual):\n",
    "    return sum(y_actual ) / len(y_actual)"
   ]
  },
  {
   "cell_type": "code",
   "execution_count": 10,
   "id": "de8f0d73",
   "metadata": {},
   "outputs": [
    {
     "name": "stdout",
     "output_type": "stream",
     "text": [
      "Class Positive Prevalence: 0.200\n"
     ]
    }
   ],
   "source": [
    "print(\"Class Positive Prevalence: %.3f\"% df_prevalence(df[\"target_variable\"].values))"
   ]
  },
  {
   "cell_type": "markdown",
   "id": "5302b1a1",
   "metadata": {},
   "source": [
    "### Data cleaning"
   ]
  },
  {
   "cell_type": "code",
   "execution_count": 11,
   "id": "12e521fa",
   "metadata": {},
   "outputs": [],
   "source": [
    "# why?\n",
    "collist = df.columns.tolist()\n",
    "cols_input = collist[0:178]\n",
    "df_data = df[cols_input + [\"target_variable\"]]"
   ]
  },
  {
   "cell_type": "code",
   "execution_count": 12,
   "id": "eec1e290",
   "metadata": {},
   "outputs": [
    {
     "data": {
      "text/html": [
       "<div>\n",
       "<style scoped>\n",
       "    .dataframe tbody tr th:only-of-type {\n",
       "        vertical-align: middle;\n",
       "    }\n",
       "\n",
       "    .dataframe tbody tr th {\n",
       "        vertical-align: top;\n",
       "    }\n",
       "\n",
       "    .dataframe thead th {\n",
       "        text-align: right;\n",
       "    }\n",
       "</style>\n",
       "<table border=\"1\" class=\"dataframe\">\n",
       "  <thead>\n",
       "    <tr style=\"text-align: right;\">\n",
       "      <th></th>\n",
       "      <th>X1</th>\n",
       "      <th>X2</th>\n",
       "      <th>X3</th>\n",
       "      <th>X4</th>\n",
       "      <th>X5</th>\n",
       "      <th>X6</th>\n",
       "      <th>X7</th>\n",
       "      <th>X8</th>\n",
       "      <th>X9</th>\n",
       "      <th>X10</th>\n",
       "      <th>...</th>\n",
       "      <th>X170</th>\n",
       "      <th>X171</th>\n",
       "      <th>X172</th>\n",
       "      <th>X173</th>\n",
       "      <th>X174</th>\n",
       "      <th>X175</th>\n",
       "      <th>X176</th>\n",
       "      <th>X177</th>\n",
       "      <th>X178</th>\n",
       "      <th>target_variable</th>\n",
       "    </tr>\n",
       "  </thead>\n",
       "  <tbody>\n",
       "    <tr>\n",
       "      <th>0</th>\n",
       "      <td>135</td>\n",
       "      <td>190</td>\n",
       "      <td>229</td>\n",
       "      <td>223</td>\n",
       "      <td>192</td>\n",
       "      <td>125</td>\n",
       "      <td>55</td>\n",
       "      <td>-9</td>\n",
       "      <td>-33</td>\n",
       "      <td>-38</td>\n",
       "      <td>...</td>\n",
       "      <td>-17</td>\n",
       "      <td>-15</td>\n",
       "      <td>-31</td>\n",
       "      <td>-77</td>\n",
       "      <td>-103</td>\n",
       "      <td>-127</td>\n",
       "      <td>-116</td>\n",
       "      <td>-83</td>\n",
       "      <td>-51</td>\n",
       "      <td>0</td>\n",
       "    </tr>\n",
       "    <tr>\n",
       "      <th>1</th>\n",
       "      <td>386</td>\n",
       "      <td>382</td>\n",
       "      <td>356</td>\n",
       "      <td>331</td>\n",
       "      <td>320</td>\n",
       "      <td>315</td>\n",
       "      <td>307</td>\n",
       "      <td>272</td>\n",
       "      <td>244</td>\n",
       "      <td>232</td>\n",
       "      <td>...</td>\n",
       "      <td>164</td>\n",
       "      <td>150</td>\n",
       "      <td>146</td>\n",
       "      <td>152</td>\n",
       "      <td>157</td>\n",
       "      <td>156</td>\n",
       "      <td>154</td>\n",
       "      <td>143</td>\n",
       "      <td>129</td>\n",
       "      <td>1</td>\n",
       "    </tr>\n",
       "    <tr>\n",
       "      <th>2</th>\n",
       "      <td>-32</td>\n",
       "      <td>-39</td>\n",
       "      <td>-47</td>\n",
       "      <td>-37</td>\n",
       "      <td>-32</td>\n",
       "      <td>-36</td>\n",
       "      <td>-57</td>\n",
       "      <td>-73</td>\n",
       "      <td>-85</td>\n",
       "      <td>-94</td>\n",
       "      <td>...</td>\n",
       "      <td>57</td>\n",
       "      <td>64</td>\n",
       "      <td>48</td>\n",
       "      <td>19</td>\n",
       "      <td>-12</td>\n",
       "      <td>-30</td>\n",
       "      <td>-35</td>\n",
       "      <td>-35</td>\n",
       "      <td>-36</td>\n",
       "      <td>0</td>\n",
       "    </tr>\n",
       "    <tr>\n",
       "      <th>3</th>\n",
       "      <td>-105</td>\n",
       "      <td>-101</td>\n",
       "      <td>-96</td>\n",
       "      <td>-92</td>\n",
       "      <td>-89</td>\n",
       "      <td>-95</td>\n",
       "      <td>-102</td>\n",
       "      <td>-100</td>\n",
       "      <td>-87</td>\n",
       "      <td>-79</td>\n",
       "      <td>...</td>\n",
       "      <td>-82</td>\n",
       "      <td>-81</td>\n",
       "      <td>-80</td>\n",
       "      <td>-77</td>\n",
       "      <td>-85</td>\n",
       "      <td>-77</td>\n",
       "      <td>-72</td>\n",
       "      <td>-69</td>\n",
       "      <td>-65</td>\n",
       "      <td>0</td>\n",
       "    </tr>\n",
       "    <tr>\n",
       "      <th>4</th>\n",
       "      <td>-9</td>\n",
       "      <td>-65</td>\n",
       "      <td>-98</td>\n",
       "      <td>-102</td>\n",
       "      <td>-78</td>\n",
       "      <td>-48</td>\n",
       "      <td>-16</td>\n",
       "      <td>0</td>\n",
       "      <td>-21</td>\n",
       "      <td>-59</td>\n",
       "      <td>...</td>\n",
       "      <td>4</td>\n",
       "      <td>2</td>\n",
       "      <td>-12</td>\n",
       "      <td>-32</td>\n",
       "      <td>-41</td>\n",
       "      <td>-65</td>\n",
       "      <td>-83</td>\n",
       "      <td>-89</td>\n",
       "      <td>-73</td>\n",
       "      <td>0</td>\n",
       "    </tr>\n",
       "  </tbody>\n",
       "</table>\n",
       "<p>5 rows × 179 columns</p>\n",
       "</div>"
      ],
      "text/plain": [
       "    X1   X2   X3   X4   X5   X6   X7   X8   X9  X10  ...  X170  X171  X172  \\\n",
       "0  135  190  229  223  192  125   55   -9  -33  -38  ...   -17   -15   -31   \n",
       "1  386  382  356  331  320  315  307  272  244  232  ...   164   150   146   \n",
       "2  -32  -39  -47  -37  -32  -36  -57  -73  -85  -94  ...    57    64    48   \n",
       "3 -105 -101  -96  -92  -89  -95 -102 -100  -87  -79  ...   -82   -81   -80   \n",
       "4   -9  -65  -98 -102  -78  -48  -16    0  -21  -59  ...     4     2   -12   \n",
       "\n",
       "   X173  X174  X175  X176  X177  X178  target_variable  \n",
       "0   -77  -103  -127  -116   -83   -51                0  \n",
       "1   152   157   156   154   143   129                1  \n",
       "2    19   -12   -30   -35   -35   -36                0  \n",
       "3   -77   -85   -77   -72   -69   -65                0  \n",
       "4   -32   -41   -65   -83   -89   -73                0  \n",
       "\n",
       "[5 rows x 179 columns]"
      ]
     },
     "execution_count": 12,
     "metadata": {},
     "output_type": "execute_result"
    }
   ],
   "source": [
    "df_data.head()"
   ]
  },
  {
   "cell_type": "code",
   "execution_count": 13,
   "id": "0402bc94",
   "metadata": {},
   "outputs": [
    {
     "name": "stdout",
     "output_type": "stream",
     "text": [
      "set()\n"
     ]
    }
   ],
   "source": [
    "# checking duplicate data\n",
    "dup_cols = set([x for x in cols_input if cols_input.count(x) > 1])\n",
    "print(dup_cols)\n",
    "assert len(dup_cols) == 0, \"there are duplicate columns\""
   ]
  },
  {
   "cell_type": "code",
   "execution_count": 14,
   "id": "5008062c",
   "metadata": {
    "scrolled": true
   },
   "outputs": [
    {
     "name": "stdout",
     "output_type": "stream",
     "text": [
      "set()\n"
     ]
    }
   ],
   "source": [
    "cols_df_data = list(df_data.columns)\n",
    "dup_cols= set([x for x in cols_df_data if cols_df_data.count(x) > 1])\n",
    "print(dup_cols)\n",
    "assert len(dup_cols) == 0, \"there are duplicate columns\""
   ]
  },
  {
   "cell_type": "markdown",
   "id": "f60e927c",
   "metadata": {},
   "source": [
    "### Data Pre-Processing\n",
    "#### Data division at trainnig, validation and test"
   ]
  },
  {
   "cell_type": "markdown",
   "id": "86acc8c5",
   "metadata": {},
   "source": [
    "<br> df_train = train machine learning algorithm and represents the majority of dataset volume\n",
    "<br> df_test = will be used to adjust hyperparameters and select best perform\n",
    "<br> df_valid = will be used to test the accuracy of ML algorithm"
   ]
  },
  {
   "cell_type": "code",
   "execution_count": 15,
   "id": "cb836394",
   "metadata": {},
   "outputs": [
    {
     "data": {
      "text/html": [
       "<div>\n",
       "<style scoped>\n",
       "    .dataframe tbody tr th:only-of-type {\n",
       "        vertical-align: middle;\n",
       "    }\n",
       "\n",
       "    .dataframe tbody tr th {\n",
       "        vertical-align: top;\n",
       "    }\n",
       "\n",
       "    .dataframe thead th {\n",
       "        text-align: right;\n",
       "    }\n",
       "</style>\n",
       "<table border=\"1\" class=\"dataframe\">\n",
       "  <thead>\n",
       "    <tr style=\"text-align: right;\">\n",
       "      <th></th>\n",
       "      <th>X1</th>\n",
       "      <th>X2</th>\n",
       "      <th>X3</th>\n",
       "      <th>X4</th>\n",
       "      <th>X5</th>\n",
       "      <th>X6</th>\n",
       "      <th>X7</th>\n",
       "      <th>X8</th>\n",
       "      <th>X9</th>\n",
       "      <th>X10</th>\n",
       "      <th>...</th>\n",
       "      <th>X170</th>\n",
       "      <th>X171</th>\n",
       "      <th>X172</th>\n",
       "      <th>X173</th>\n",
       "      <th>X174</th>\n",
       "      <th>X175</th>\n",
       "      <th>X176</th>\n",
       "      <th>X177</th>\n",
       "      <th>X178</th>\n",
       "      <th>target_variable</th>\n",
       "    </tr>\n",
       "  </thead>\n",
       "  <tbody>\n",
       "    <tr>\n",
       "      <th>0</th>\n",
       "      <td>135</td>\n",
       "      <td>190</td>\n",
       "      <td>229</td>\n",
       "      <td>223</td>\n",
       "      <td>192</td>\n",
       "      <td>125</td>\n",
       "      <td>55</td>\n",
       "      <td>-9</td>\n",
       "      <td>-33</td>\n",
       "      <td>-38</td>\n",
       "      <td>...</td>\n",
       "      <td>-17</td>\n",
       "      <td>-15</td>\n",
       "      <td>-31</td>\n",
       "      <td>-77</td>\n",
       "      <td>-103</td>\n",
       "      <td>-127</td>\n",
       "      <td>-116</td>\n",
       "      <td>-83</td>\n",
       "      <td>-51</td>\n",
       "      <td>0</td>\n",
       "    </tr>\n",
       "    <tr>\n",
       "      <th>1</th>\n",
       "      <td>386</td>\n",
       "      <td>382</td>\n",
       "      <td>356</td>\n",
       "      <td>331</td>\n",
       "      <td>320</td>\n",
       "      <td>315</td>\n",
       "      <td>307</td>\n",
       "      <td>272</td>\n",
       "      <td>244</td>\n",
       "      <td>232</td>\n",
       "      <td>...</td>\n",
       "      <td>164</td>\n",
       "      <td>150</td>\n",
       "      <td>146</td>\n",
       "      <td>152</td>\n",
       "      <td>157</td>\n",
       "      <td>156</td>\n",
       "      <td>154</td>\n",
       "      <td>143</td>\n",
       "      <td>129</td>\n",
       "      <td>1</td>\n",
       "    </tr>\n",
       "    <tr>\n",
       "      <th>2</th>\n",
       "      <td>-32</td>\n",
       "      <td>-39</td>\n",
       "      <td>-47</td>\n",
       "      <td>-37</td>\n",
       "      <td>-32</td>\n",
       "      <td>-36</td>\n",
       "      <td>-57</td>\n",
       "      <td>-73</td>\n",
       "      <td>-85</td>\n",
       "      <td>-94</td>\n",
       "      <td>...</td>\n",
       "      <td>57</td>\n",
       "      <td>64</td>\n",
       "      <td>48</td>\n",
       "      <td>19</td>\n",
       "      <td>-12</td>\n",
       "      <td>-30</td>\n",
       "      <td>-35</td>\n",
       "      <td>-35</td>\n",
       "      <td>-36</td>\n",
       "      <td>0</td>\n",
       "    </tr>\n",
       "    <tr>\n",
       "      <th>3</th>\n",
       "      <td>-105</td>\n",
       "      <td>-101</td>\n",
       "      <td>-96</td>\n",
       "      <td>-92</td>\n",
       "      <td>-89</td>\n",
       "      <td>-95</td>\n",
       "      <td>-102</td>\n",
       "      <td>-100</td>\n",
       "      <td>-87</td>\n",
       "      <td>-79</td>\n",
       "      <td>...</td>\n",
       "      <td>-82</td>\n",
       "      <td>-81</td>\n",
       "      <td>-80</td>\n",
       "      <td>-77</td>\n",
       "      <td>-85</td>\n",
       "      <td>-77</td>\n",
       "      <td>-72</td>\n",
       "      <td>-69</td>\n",
       "      <td>-65</td>\n",
       "      <td>0</td>\n",
       "    </tr>\n",
       "    <tr>\n",
       "      <th>4</th>\n",
       "      <td>-9</td>\n",
       "      <td>-65</td>\n",
       "      <td>-98</td>\n",
       "      <td>-102</td>\n",
       "      <td>-78</td>\n",
       "      <td>-48</td>\n",
       "      <td>-16</td>\n",
       "      <td>0</td>\n",
       "      <td>-21</td>\n",
       "      <td>-59</td>\n",
       "      <td>...</td>\n",
       "      <td>4</td>\n",
       "      <td>2</td>\n",
       "      <td>-12</td>\n",
       "      <td>-32</td>\n",
       "      <td>-41</td>\n",
       "      <td>-65</td>\n",
       "      <td>-83</td>\n",
       "      <td>-89</td>\n",
       "      <td>-73</td>\n",
       "      <td>0</td>\n",
       "    </tr>\n",
       "  </tbody>\n",
       "</table>\n",
       "<p>5 rows × 179 columns</p>\n",
       "</div>"
      ],
      "text/plain": [
       "    X1   X2   X3   X4   X5   X6   X7   X8   X9  X10  ...  X170  X171  X172  \\\n",
       "0  135  190  229  223  192  125   55   -9  -33  -38  ...   -17   -15   -31   \n",
       "1  386  382  356  331  320  315  307  272  244  232  ...   164   150   146   \n",
       "2  -32  -39  -47  -37  -32  -36  -57  -73  -85  -94  ...    57    64    48   \n",
       "3 -105 -101  -96  -92  -89  -95 -102 -100  -87  -79  ...   -82   -81   -80   \n",
       "4   -9  -65  -98 -102  -78  -48  -16    0  -21  -59  ...     4     2   -12   \n",
       "\n",
       "   X173  X174  X175  X176  X177  X178  target_variable  \n",
       "0   -77  -103  -127  -116   -83   -51                0  \n",
       "1   152   157   156   154   143   129                1  \n",
       "2    19   -12   -30   -35   -35   -36                0  \n",
       "3   -77   -85   -77   -72   -69   -65                0  \n",
       "4   -32   -41   -65   -83   -89   -73                0  \n",
       "\n",
       "[5 rows x 179 columns]"
      ]
     },
     "execution_count": 15,
     "metadata": {},
     "output_type": "execute_result"
    }
   ],
   "source": [
    "df.head()"
   ]
  },
  {
   "cell_type": "code",
   "execution_count": 16,
   "id": "1e807f03",
   "metadata": {},
   "outputs": [],
   "source": [
    "# creating random samples\n",
    "df_data = df_data.sample(n = len(df_data))"
   ]
  },
  {
   "cell_type": "code",
   "execution_count": 17,
   "id": "84dd5933",
   "metadata": {},
   "outputs": [],
   "source": [
    "# Adjusting dataset index\n",
    "df_data = df_data.reset_index(drop = True)"
   ]
  },
  {
   "cell_type": "code",
   "execution_count": 18,
   "id": "7c9cfdd7",
   "metadata": {},
   "outputs": [
    {
     "name": "stdout",
     "output_type": "stream",
     "text": [
      "Validation split size / test: 0.3\n"
     ]
    }
   ],
   "source": [
    "# Creating an index for the split\n",
    "df_valid_test = df_data.sample(frac = 0.3)\n",
    "print(\"Validation split size / test: %.1f\" % (len(df_valid_test) / len(df_data)))"
   ]
  },
  {
   "cell_type": "code",
   "execution_count": 19,
   "id": "9539a3b1",
   "metadata": {},
   "outputs": [],
   "source": [
    "# Splitting dataset: 70/15/15\n",
    "\n",
    "df_test = df_valid_test.sample(frac = 0.5)\n",
    "df_valid = df_valid_test.drop(df_test.index)\n",
    "df_train = df_data.drop(df_valid_test.index)"
   ]
  },
  {
   "cell_type": "code",
   "execution_count": 20,
   "id": "7cdb3e0e",
   "metadata": {
    "scrolled": true
   },
   "outputs": [
    {
     "name": "stdout",
     "output_type": "stream",
     "text": [
      "Test(n = 1725): 0.200\n",
      "Validation(n = 1725): 0.202\n",
      "Train(n = 8050): 0.202\n"
     ]
    }
   ],
   "source": [
    "# Checking prevalence in each subset\n",
    "print(\"Test(n = %d): %.3f\" % (len(df_test), df_prevalence(df_test.target_variable.values)))\n",
    "print(\"Validation(n = %d): %.3f\" % (len(df_valid), df_prevalence(df_valid.target_variable.values)))\n",
    "print(\"Train(n = %d): %.3f\" % (len(df_train), df_prevalence(df_valid.target_variable.values)))\n"
   ]
  },
  {
   "cell_type": "code",
   "execution_count": 21,
   "id": "b5b35d70",
   "metadata": {},
   "outputs": [
    {
     "name": "stdout",
     "output_type": "stream",
     "text": [
      "All samples (n = 11500)\n"
     ]
    }
   ],
   "source": [
    "print('All samples (n = %d)'%len(df_data))\n",
    "assert len(df_data) == (len(df_test) + len(df_valid) + len(df_train)), 'something got wrong'"
   ]
  },
  {
   "cell_type": "markdown",
   "id": "829e1c5d",
   "metadata": {},
   "source": [
    "#### Class balacing"
   ]
  },
  {
   "cell_type": "code",
   "execution_count": 22,
   "id": "fa111042",
   "metadata": {},
   "outputs": [
    {
     "data": {
      "text/plain": [
       "target_variable\n",
       "0    9200\n",
       "1    2300\n",
       "Name: count, dtype: int64"
      ]
     },
     "execution_count": 22,
     "metadata": {},
     "output_type": "execute_result"
    },
    {
     "data": {
      "image/png": "[encoded data removed]",
      "text/plain": [
       "<Figure size 640x480 with 1 Axes>"
      ]
     },
     "metadata": {},
     "output_type": "display_data"
    }
   ],
   "source": [
    "# Checking balance of target_variable column for all dataset\n",
    "plt.title(\"All Dataset\")\n",
    "ax = sns.countplot(x=\"target_variable\", data=df_valid_test)\n",
    "df[\"target_variable\"].value_counts()"
   ]
  },
  {
   "cell_type": "markdown",
   "id": "864b3e88",
   "metadata": {},
   "source": [
    "#### Applying balance class only in train subset"
   ]
  },
  {
   "cell_type": "markdown",
   "id": "62736f84",
   "metadata": {},
   "source": [
    "For class balancing, the undersampling technique will be used. \n",
    "This technique involves reducing the number of examples from the majority class to equal the number of examples from the minority class. In other words, you reduce the size of the dataset by randomly removing records from the class that has more examples. This can help balance the dataset, but it can also result in the loss of important information, as much data from the majority class is discarded."
   ]
  },
  {
   "cell_type": "code",
   "execution_count": 23,
   "id": "f803ac22",
   "metadata": {},
   "outputs": [],
   "source": [
    "# Creating an index\n",
    "rows_pos = df_train.target_variable == 1"
   ]
  },
  {
   "cell_type": "code",
   "execution_count": 24,
   "id": "b3c6605f",
   "metadata": {},
   "outputs": [],
   "source": [
    "#Define positive and negative values of index\n",
    "df_train_pos = df_train[rows_pos]\n",
    "df_train_neg = df_train[~rows_pos]"
   ]
  },
  {
   "cell_type": "code",
   "execution_count": 25,
   "id": "131c43dc",
   "metadata": {},
   "outputs": [],
   "source": [
    "# Minimum value\n",
    "n = np.min([len(df_train_pos), len(df_train_neg)])"
   ]
  },
  {
   "cell_type": "code",
   "execution_count": 26,
   "id": "1bf578d0",
   "metadata": {},
   "outputs": [],
   "source": [
    "# Obtain random values for train dataset\n",
    "df_train_final = pd.concat([df_train_pos.sample (n = n, random_state = 64),\n",
    "                            df_train_neg.sample (n = n, random_state = 64)],\n",
    "                           axis = 0,\n",
    "                           ignore_index = True)"
   ]
  },
  {
   "cell_type": "code",
   "execution_count": 27,
   "id": "5671962d",
   "metadata": {},
   "outputs": [],
   "source": [
    "# Sampling\n",
    "df_train_final = df_train_final.sample(n = len(df_train_final), random_state = 64).reset_index(drop = True)"
   ]
  },
  {
   "cell_type": "code",
   "execution_count": 28,
   "id": "4e8f6bde",
   "metadata": {},
   "outputs": [
    {
     "name": "stdout",
     "output_type": "stream",
     "text": [
      "Train balancing (n = 3214): 0.500\n"
     ]
    }
   ],
   "source": [
    "print('Train balancing (n = %d): %.3f'%(len(df_train_final), \n",
    "                                        df_prevalence(df_train_final.target_variable.values)))"
   ]
  },
  {
   "cell_type": "code",
   "execution_count": 29,
   "id": "1bf332ec",
   "metadata": {},
   "outputs": [],
   "source": [
    "# Saving all subset in disk\n",
    "df_train.to_csv('train_dataset.csv', index = False)\n",
    "df_train_final.to_csv('train_final_dataset.csv', index = False)\n",
    "df_valid.to_csv('valid_dataset.csv', index = False)\n",
    "df_test.to_csv('test_dataset.csv', index = False)"
   ]
  },
  {
   "cell_type": "code",
   "execution_count": 30,
   "id": "32c06a2a",
   "metadata": {},
   "outputs": [],
   "source": [
    "# Saving input data (predict columns) to make it easier to use later\n",
    "pickle.dump(cols_input, open('cols_input.sav', 'wb'))"
   ]
  },
  {
   "cell_type": "markdown",
   "id": "fd4fa69b",
   "metadata": {},
   "source": [
    "#### Creating matrix x and Y"
   ]
  },
  {
   "cell_type": "code",
   "execution_count": 31,
   "id": "0bf971e3",
   "metadata": {},
   "outputs": [],
   "source": [
    "# X\n",
    "X_train = df_train_final[cols_input].values\n",
    "X_valid = df_valid[cols_input].values"
   ]
  },
  {
   "cell_type": "code",
   "execution_count": 32,
   "id": "e3acc2a4",
   "metadata": {},
   "outputs": [],
   "source": [
    "# Y\n",
    "Y_train = df_train_final['target_variable'].values\n",
    "Y_valid = df_valid['target_variable'].values"
   ]
  },
  {
   "cell_type": "code",
   "execution_count": 33,
   "id": "e428ac19",
   "metadata": {},
   "outputs": [
    {
     "name": "stdout",
     "output_type": "stream",
     "text": [
      "Shape train dataset: (3214, 178) (3214,)\n",
      "Shape valid dataset: (1725, 178) (1725,)\n"
     ]
    }
   ],
   "source": [
    "print('Shape train dataset:' , X_train.shape, Y_train.shape)\n",
    "print('Shape valid dataset:' , X_valid.shape, Y_valid.shape)"
   ]
  },
  {
   "cell_type": "code",
   "execution_count": 34,
   "id": "835a09f3",
   "metadata": {},
   "outputs": [
    {
     "data": {
      "text/plain": [
       "array([[  64,   45,   21, ...,   67,   59,   48],\n",
       "       [ 169,  118,   47, ...,  -11,  -17,  -19],\n",
       "       [ 285,  282,  311, ...,  -22, -173, -308],\n",
       "       ...,\n",
       "       [ -11,   16,   22, ...,  -66,  -60,  -59],\n",
       "       [ -95, -129, -168, ..., -369, -156,   90],\n",
       "       [  41,   35,   33, ...,   51,   61,   62]], dtype=int64)"
      ]
     },
     "execution_count": 34,
     "metadata": {},
     "output_type": "execute_result"
    }
   ],
   "source": [
    "X_train"
   ]
  },
  {
   "cell_type": "markdown",
   "id": "82e8cd8d",
   "metadata": {},
   "source": [
    "#### Standardization"
   ]
  },
  {
   "cell_type": "code",
   "execution_count": 35,
   "id": "7f7b08ec",
   "metadata": {},
   "outputs": [],
   "source": [
    "# creating object\n",
    "scaler = StandardScaler()"
   ]
  },
  {
   "cell_type": "code",
   "execution_count": 36,
   "id": "e108a3db",
   "metadata": {},
   "outputs": [
    {
     "data": {
      "text/plain": [
       "StandardScaler()"
      ]
     },
     "execution_count": 36,
     "metadata": {},
     "output_type": "execute_result"
    }
   ],
   "source": [
    "scaler.fit(X_train)"
   ]
  },
  {
   "cell_type": "code",
   "execution_count": 37,
   "id": "4dc45a71",
   "metadata": {},
   "outputs": [],
   "source": [
    "# saving object in disk\n",
    "scalerfile = 'scaler.sav'"
   ]
  },
  {
   "cell_type": "code",
   "execution_count": 38,
   "id": "deae9e88",
   "metadata": {},
   "outputs": [],
   "source": [
    "pickle.dump(scaler, open(scalerfile, 'wb'))\n",
    "scaler = pickle.load(open(scalerfile, 'rb'))"
   ]
  },
  {
   "cell_type": "code",
   "execution_count": 39,
   "id": "dc5b050a",
   "metadata": {},
   "outputs": [],
   "source": [
    "# Applying standardization in matrix\n",
    "X_train_tf = scaler.transform(X_train)\n",
    "X_valid_tf = scaler.transform(X_valid)"
   ]
  },
  {
   "cell_type": "code",
   "execution_count": 40,
   "id": "b7fbde1e",
   "metadata": {},
   "outputs": [
    {
     "data": {
      "text/plain": [
       "array([[ 0.35170196,  0.26540579,  0.15935019, ...,  0.36112579,\n",
       "         0.32844825,  0.27530301],\n",
       "       [ 0.77798708,  0.56129433,  0.26690159, ...,  0.03979524,\n",
       "         0.0093281 , -0.0031356 ],\n",
       "       [ 1.24893064,  1.22603022,  1.35896198, ..., -0.0055206 ,\n",
       "        -0.64570802, -1.20416182],\n",
       "       ...,\n",
       "       [ 0.04721259,  0.14786103,  0.16348678, ..., -0.18678398,\n",
       "        -0.17122673, -0.1693676 ],\n",
       "       [-0.29381551, -0.43986277, -0.62246578, ..., -1.43502955,\n",
       "        -0.57432588,  0.44984661],\n",
       "       [ 0.25832522,  0.22487312,  0.2089893 , ...,  0.29521183,\n",
       "         0.33684615,  0.33348421]])"
      ]
     },
     "execution_count": 40,
     "metadata": {},
     "output_type": "execute_result"
    }
   ],
   "source": [
    "X_train_tf"
   ]
  },
  {
   "cell_type": "markdown",
   "id": "489aa2d4",
   "metadata": {},
   "source": [
    "### Data Modeling Predictive"
   ]
  },
  {
   "cell_type": "markdown",
   "id": "087e5a41",
   "metadata": {},
   "source": [
    "The following metrics are commonly used to evaluate the performance of classification models in machine learning. Each of them provides different information about the quality of the model’s predictions. Let’s describe them:\n",
    "\n",
    "**AUC (Area Under the ROC Curve)**: The AUC metric refers to the area under the ROC (Receiver Operating Characteristic) curve. The ROC curve is a graph that shows the performance of a classification model across classification thresholds. This curve plots the true positive rate (sensitivity) against the false positive rate (1 - specificity) for different thresholds. AUC ranges from 0 to 1, where a model with an AUC of 1 is a perfect classifier, and a model with an AUC of 0.5 has no classification ability better than chance.\n",
    "\n",
    "**Accuracy**: Accuracy is the fraction of correct predictions (both true positives and true negatives) among the total cases examined. It is calculated as (true positives + true negatives) / (total cases). While accuracy can provide a quick measure of the overall effectiveness of the model, it can be misleading in imbalanced datasets where one class is much more frequent than the other.\n",
    "\n",
    "**Recall**: Recall is the proportion of true positives that were correctly identified by the model, calculated as (true positives) / (true positives + false negatives). It is an important metric when the cost of missing a true positive is high.\n",
    "\n",
    "**Precision**: Precision is the proportion of positive predictions that are actually positive, calculated as (true positives) / (true positives + false positives). High precision indicates a low false positive rate. It is particularly important in situations where false positives have a high cost.\n",
    "\n",
    "**Specificity**: Specificity is the proportion of true negatives that were correctly identified as such, calculated as (true negatives) / (true negatives + false positives). It is not directly calculated by scikit-learn, but can be derived from the confusion matrix or calculated by a custom function such as the mentioned dsa_calc_specificity. Specificity is crucial in contexts where it is important to minimize"
   ]
  },
  {
   "cell_type": "code",
   "execution_count": 41,
   "id": "e559d05d",
   "metadata": {},
   "outputs": [],
   "source": [
    "# Creating functions to calculate metrics"
   ]
  },
  {
   "cell_type": "code",
   "execution_count": 42,
   "id": "96d88773",
   "metadata": {},
   "outputs": [],
   "source": [
    "# Function to calculate specificity\n",
    "def calc_specificity(y_actual, y_pred, tresh):\n",
    "    return sum((y_pred < tresh) & (y_actual == 0)) / sum(y_actual == 0)"
   ]
  },
  {
   "cell_type": "code",
   "execution_count": 43,
   "id": "7aeafa21",
   "metadata": {},
   "outputs": [],
   "source": [
    "# Function to genarete metric report\n",
    "def print_report(y_actual, y_pred, thresh):\n",
    "    \n",
    "    auc = roc_auc_score(y_actual, y_pred)\n",
    "    \n",
    "    accuracy = accuracy_score(y_actual, (y_pred > thresh))\n",
    "    \n",
    "    recall = recall_score(y_actual, (y_pred > thresh))\n",
    "    \n",
    "    precision = precision_score(y_actual, (y_pred > thresh))\n",
    "    \n",
    "    specificity = calc_specificity(y_actual, y_pred, thresh)\n",
    "    \n",
    "    print('AUC:%.3f'%auc)\n",
    "    print('Accuracy:%.3f'%accuracy)\n",
    "    print('Recal:%.3f'%recall)\n",
    "    print('Precision:%.3f'%precision)\n",
    "    print('Specificity:%.3f'%specificity)\n",
    "    print('')\n",
    "    \n",
    "    return auc, accuracy, recall, precision, specificity"
   ]
  },
  {
   "cell_type": "markdown",
   "id": "21bf615b",
   "metadata": {},
   "source": [
    "Since we have balanced our training data, let's set our threshold to 0.5 to label a predicted sample as positive."
   ]
  },
  {
   "cell_type": "code",
   "execution_count": 44,
   "id": "c71fdb3c",
   "metadata": {},
   "outputs": [],
   "source": [
    "thresh = 0.5"
   ]
  },
  {
   "cell_type": "markdown",
   "id": "a3f46b44",
   "metadata": {},
   "source": [
    "#### Option 1 - Logistic Regression\n",
    "The logistic regression algorithm is a machine learning technique used to predict a binary outcome. This means that it is used to decide between two possible options, such as yes or no, true or false, success or failure.\n",
    "\n",
    "The algorithm works by calculating the probability of an event occurring based on observed characteristics in the data. For example, logistic regression can be used to predict whether or not a customer will purchase a product, based on their purchase history and other personal characteristics. It is an easy-to-understand and very powerful model."
   ]
  },
  {
   "cell_type": "code",
   "execution_count": 45,
   "id": "86546269",
   "metadata": {},
   "outputs": [
    {
     "name": "stdout",
     "output_type": "stream",
     "text": [
      "\n",
      "Logistic Regression\n",
      "\n",
      "Trainning:\n",
      "\n",
      "AUC:0.608\n",
      "Accuracy:0.643\n",
      "Recal:0.519\n",
      "Precision:0.689\n",
      "Specificity:0.766\n",
      "\n",
      "Validation: \n",
      "\n",
      "AUC:0.548\n",
      "Accuracy:0.689\n",
      "Recal:0.457\n",
      "Precision:0.314\n",
      "Specificity:0.747\n",
      "\n"
     ]
    }
   ],
   "source": [
    "# Creating classifier (object)\n",
    "lr = LogisticRegression(max_iter = 500, random_state = 142)\n",
    "\n",
    "# Trainning and creating the model\n",
    "model_v1 = lr.fit(X_train_tf, Y_train)\n",
    "\n",
    "# Predictions\n",
    "\n",
    "y_train_preds = model_v1.predict_proba(X_train_tf)[:,1]\n",
    "y_valid_preds = model_v1.predict_proba(X_valid_tf)[:,1]\n",
    "\n",
    "print('\\nLogistic Regression')\n",
    "\n",
    "print('\\nTrainning:\\n')\n",
    "\n",
    "v1_train_auc, v1_train_acc, v1_train_rec, v1_train_prec, v1_train_spec = print_report(Y_train, y_train_preds,thresh)\n",
    "\n",
    "print('Validation: \\n')\n",
    "v1_valid_auc, v1_valid_acc, v1_valid_rec, v1_valid_prec, v1_valid_spec = print_report(Y_valid, y_valid_preds,thresh)\n"
   ]
  },
  {
   "cell_type": "markdown",
   "id": "2139403a",
   "metadata": {},
   "source": [
    "#### Option 2 - Probabilistic Model\n",
    "The Gaussian Naive Bayes algorithm is a classification method based on Bayes' theorem, with the assumption that the predictors (input features) have a normal (Gaussian) distribution. It is called \"naive\" because it assumes that all features are independent of each other, which is rarely the case in practice but greatly simplifies the computation. This algorithm is effective on classification problems where the features are continuous and presumably have a normal distribution, such as in some text classification tasks and medical diagnosis problems. It calculates the probability of each output category based on the input features, and classifies each instance into the category with the highest probability."
   ]
  },
  {
   "cell_type": "code",
   "execution_count": 46,
   "id": "17757010",
   "metadata": {},
   "outputs": [
    {
     "name": "stdout",
     "output_type": "stream",
     "text": [
      "Shapiro wilk stat is: 0.8520\n",
      "P of Shapiro wilk stat is: 0.000\n"
     ]
    },
    {
     "name": "stderr",
     "output_type": "stream",
     "text": [
      "C:\\Users\\Elisa\\anaconda3\\lib\\site-packages\\scipy\\stats\\_morestats.py:1761: UserWarning: p-value may not be accurate for N > 5000.\n",
      "  warnings.warn(\"p-value may not be accurate for N > 5000.\")\n"
     ]
    }
   ],
   "source": [
    "#Checking if dataset train is a normal distribution\n",
    "\n",
    "data = df_train_final\n",
    "stats, p = shapiro(data)\n",
    "print(f'Shapiro wilk stat is: {stats:.4f}')\n",
    "print(f'P of Shapiro wilk stat is: {p:.3f}')"
   ]
  },
  {
   "cell_type": "code",
   "execution_count": 47,
   "id": "4c7866d5",
   "metadata": {},
   "outputs": [
    {
     "name": "stdout",
     "output_type": "stream",
     "text": [
      "\n",
      "Logistic Regression\n",
      "\n",
      "Trainning:\n",
      "\n",
      "AUC:0.986\n",
      "Accuracy:0.942\n",
      "Recal:0.907\n",
      "Precision:0.976\n",
      "Specificity:0.978\n",
      "\n",
      "Validation: \n",
      "\n",
      "AUC:0.980\n",
      "Accuracy:0.952\n",
      "Recal:0.908\n",
      "Precision:0.861\n",
      "Specificity:0.963\n",
      "\n"
     ]
    }
   ],
   "source": [
    "# Creating classifier (object)\n",
    "nb = GaussianNB()\n",
    "\n",
    "# Trainning and creating the model\n",
    "model_v2 = nb.fit(X_train_tf, Y_train)\n",
    "\n",
    "# Predictions\n",
    "\n",
    "y_train_preds = model_v2.predict_proba(X_train_tf)[:,1]\n",
    "y_valid_preds = model_v2.predict_proba(X_valid_tf)[:,1]\n",
    "\n",
    "print('\\nLogistic Regression')\n",
    "\n",
    "print('\\nTrainning:\\n')\n",
    "\n",
    "v2_train_auc, v2_train_acc, v2_train_rec, v2_train_prec, v2_train_spec = print_report(Y_train, y_train_preds,thresh)\n",
    "\n",
    "print('Validation: \\n')\n",
    "v2_valid_auc, v2_valid_acc, v2_valid_rec, v2_valid_prec, v2_valid_spec = print_report(Y_valid, y_valid_preds,thresh)\n"
   ]
  },
  {
   "cell_type": "markdown",
   "id": "36015ab2",
   "metadata": {},
   "source": [
    "#### Option 3 - Decision Tree and Boosting\n",
    "\n",
    "The XGBoost (eXtreme Gradient Boosting) algorithm is an advanced implementation of decision trees with boosting techniques, which are machine learning methods for improving prediction accuracy. XGBoost builds models sequentially, with each new model trying to correct the errors of the previous one, focusing on the instances that were most difficult to predict correctly.\n",
    "\n",
    "The main advantage of XGBoost is its ability to efficiently manage large volumes of data and handle a variety of data types, being very efficient in terms of runtime and memory usage. It also has features that allow it to handle missing values ​​and supports multiple loss functions, which makes it suitable for a wide range of classification and regression problems.\n",
    "\n",
    "In addition, XGBoost offers several functionalities to improve model performance and accuracy, such as regularization to avoid overfitting, and tree pruning techniques. It is widely used in data science competitions and in industrial applications due to its robustness and effectiveness."
   ]
  },
  {
   "cell_type": "code",
   "execution_count": 48,
   "id": "6cba47da",
   "metadata": {},
   "outputs": [
    {
     "name": "stdout",
     "output_type": "stream",
     "text": [
      "\n",
      "Logistic Regression\n",
      "\n",
      "Trainning:\n",
      "\n",
      "AUC:1.000\n",
      "Accuracy:1.000\n",
      "Recal:1.000\n",
      "Precision:1.000\n",
      "Specificity:1.000\n",
      "\n",
      "Validation: \n",
      "\n",
      "AUC:0.990\n",
      "Accuracy:0.958\n",
      "Recal:0.945\n",
      "Precision:0.859\n",
      "Specificity:0.961\n",
      "\n"
     ]
    }
   ],
   "source": [
    "# Creating classifier (object)\n",
    "xgbc = XGBClassifier()\n",
    "\n",
    "# Trainning and creating the model\n",
    "model_v3 = xgbc.fit(X_train_tf, Y_train)\n",
    "\n",
    "# Predictions\n",
    "\n",
    "y_train_preds = model_v3.predict_proba(X_train_tf)[:,1]\n",
    "y_valid_preds = model_v3.predict_proba(X_valid_tf)[:,1]\n",
    "\n",
    "print('\\nLogistic Regression')\n",
    "\n",
    "print('\\nTrainning:\\n')\n",
    "\n",
    "v3_train_auc, v3_train_acc, v3_train_rec, v3_train_prec, v3_train_spec = print_report(Y_train, y_train_preds,thresh)\n",
    "\n",
    "print('Validation: \\n')\n",
    "v3_valid_auc, v3_valid_acc, v3_valid_rec, v3_valid_prec, v3_valid_spec = print_report(Y_valid, y_valid_preds,thresh)\n"
   ]
  },
  {
   "cell_type": "markdown",
   "id": "61cbaed0",
   "metadata": {},
   "source": [
    "### Cross Validation\n",
    "\n",
    "Cross-validation is a model evaluation technique that aims to ensure the generalization ability of a predictive model to an independent data set. This method is used to estimate the ability of the model to perform on data not seen during training, minimizing problems such as overfitting. In cross-validation, the data set is divided into smaller parts: one set is used to train the model (training data) and the other is used to test the model (test or validation data). The process is repeated multiple times (folds) with different training and testing partitions, and the results are then aggregated to provide a more robust measure of the model's performance.\n",
    "\n",
    "One of the most common cross-validation methods is k-fold cross-validation, where the data set is randomly divided into k parts (or \"folds\") of approximately the same size. The model is trained k times, each time using k-1 folds for training and the remaining fold for testing, ensuring that each fold is used exactly once as test data. This allows all data to be used for both training and testing, maximizing the efficiency of using the available data. Cross-validation provides a more accurate estimate of model performance than simply splitting the data into training and testing sets, especially in cases of limited or imbalanced datasets.\n",
    "\n",
    "To perform cross-validation on the Xtreme Gradient Boosting Classifier (XGBClassifier) ​​model, you can use the cross_val_score function from the scikit-learn library. This function allows you to evaluate the effectiveness of the model using different training/testing splits, which helps to obtain a more robust estimate of model performance."
   ]
  },
  {
   "cell_type": "code",
   "execution_count": 49,
   "id": "fddc11f9",
   "metadata": {},
   "outputs": [
    {
     "name": "stdout",
     "output_type": "stream",
     "text": [
      "Cross Validation with 5 divisões\n",
      "Score AUC for each division: [0.99485304 0.99376947 0.99450475 0.99066388 0.99012044]\n",
      "Score AUC average: 0.9927823158616051\n"
     ]
    }
   ],
   "source": [
    "# creating classifier\n",
    "xgbc = XGBClassifier()\n",
    "\n",
    "# Setting up cross validation with 5 divisions and ROC (AUC) metric\n",
    "n_splits = 5\n",
    "score = 'roc_auc'\n",
    "\n",
    "# Cross validation\n",
    "cv_scores = cross_val_score(xgbc, X_train_tf, Y_train, cv = n_splits, scoring = score)\n",
    "\n",
    "# Show results\n",
    "\n",
    "print(f\"Cross Validation with {n_splits} divisões\")\n",
    "print(f\"Score AUC for each division: {cv_scores}\")\n",
    "print(f\"Score AUC average: {np.mean(cv_scores)}\")"
   ]
  },
  {
   "cell_type": "markdown",
   "id": "997a4a8d",
   "metadata": {},
   "source": [
    "### Hyperparameter Optimization with GridSearchCV\n",
    "\n",
    "To perform hyperparameter optimization on your XGBoost model, you can use GridSearchCV or RandomizedSearchCV from the scikit-learn library. These tools allow you to automatically test several hyperparameter combinations and select the best combination based on the model's performance.\n",
    "\n",
    "Here we will show you how to use GridSearchCV to optimize some XGBoost hyperparameters. The process with RandomizedSearchCV \n",
    "would be similar, but with the difference that it tests a fixed number of randomly chosen hyperparameter combinations, which can be more efficient if the hyperparameter space is very large."
   ]
  },
  {
   "cell_type": "code",
   "execution_count": 50,
   "id": "c295fde2",
   "metadata": {},
   "outputs": [
    {
     "name": "stderr",
     "output_type": "stream",
     "text": [
      "C:\\Users\\Elisa\\anaconda3\\lib\\site-packages\\xgboost\\core.py:158: UserWarning: [12:55:46] WARNING: C:\\buildkite-agent\\builds\\buildkite-windows-cpu-autoscaling-group-i-0c55ff5f71b100e98-1\\xgboost\\xgboost-ci-windows\\src\\learner.cc:740: \n",
      "Parameters: { \"subsmaple\" } are not used.\n",
      "\n",
      "  warnings.warn(smsg, UserWarning)\n"
     ]
    },
    {
     "name": "stdout",
     "output_type": "stream",
     "text": [
      "\n",
      "Xtreme Gradient Boosting Classifier - Optimized\n",
      "\n",
      "Best hyperparameters\n",
      "\n",
      "Trainning:\n",
      "\n",
      "AUC:1.000\n",
      "Accuracy:1.000\n",
      "Recal:1.000\n",
      "Precision:1.000\n",
      "Specificity:1.000\n",
      "\n",
      "\n",
      "Validation:\n",
      "\n",
      "AUC:0.992\n",
      "Accuracy:0.961\n",
      "Recal:0.945\n",
      "Precision:0.870\n",
      "Specificity:0.964\n",
      "\n",
      "Wall time: 10min 38s\n"
     ]
    }
   ],
   "source": [
    "%%time\n",
    "\n",
    "# Define classifier\n",
    "xgbc = XGBClassifier()\n",
    "\n",
    "# Define hyperparameters for optimization\n",
    "param_grid = {\n",
    "    'max_depth': [3 ,4, 5],\n",
    "    'learning_rate': [0.01, 0.1, 0.2],\n",
    "    'n_estimators': [100, 200, 300],\n",
    "    'subsmaple': [0.7, 0.8, 0.9]    \n",
    "}\n",
    "\n",
    "# Setting up GridSearchCV\n",
    "grid_search = GridSearchCV(xgbc, param_grid, cv = 5, scoring = 'roc_auc', n_jobs = -1)\n",
    "\n",
    "# Searching best hyperparameters\n",
    "grid_search.fit(X_train_tf, Y_train)\n",
    "\n",
    "# Best hyperparameters found\n",
    "best_params = grid_search.best_params_\n",
    "\n",
    "# Trainning model with best hupyparameters\n",
    "model_v4 = grid_search.best_estimator_\n",
    "\n",
    "# Predict with optimized model\n",
    "y_train_preds_optimized = model_v4.predict_proba(X_train_tf)[:,1]\n",
    "y_valid_preds_optimized = model_v4.predict_proba(X_valid_tf)[:,1]\n",
    "\n",
    "# Evaluating optimized model:\n",
    "print('\\nXtreme Gradient Boosting Classifier - Optimized\\n')\n",
    "print('Best hyperparameters')\n",
    "\n",
    "print('\\nTrainning:\\n')\n",
    "v4_train_auc, v4_train_acc, v4_train_rec, v4_train_prec, v4_train_spec = print_report(Y_train, y_train_preds_optimized, thresh)\n",
    "\n",
    "print('\\nValidation:\\n')\n",
    "v4_valid_auc, v4_valid_acc, v4_valid_rec, v4_valid_prec, v4_valid_spec = print_report(Y_valid, y_valid_preds_optimized, thresh)\n"
   ]
  },
  {
   "cell_type": "markdown",
   "id": "f9c0da1b",
   "metadata": {},
   "source": [
    "### Selecting the Best Machine Learning Model"
   ]
  },
  {
   "cell_type": "code",
   "execution_count": 51,
   "id": "48c63e4f",
   "metadata": {},
   "outputs": [],
   "source": [
    "# Creating dataframe with metrics calculated\n",
    "df_results = pd.DataFrame({'Classifier': ['RL', 'RL', 'NB', 'NB', 'XGB', 'XGB', 'XGB_O', 'XGB_O'],\n",
    "                          'data_set': ['trainning', 'validation'] * 4,\n",
    "                          'auc':[v1_train_auc,\n",
    "                                  v1_valid_auc,\n",
    "                                  v2_train_auc,\n",
    "                                  v2_valid_auc,\n",
    "                                  v3_train_auc,\n",
    "                                  v3_valid_auc,\n",
    "                                  v4_train_auc,\n",
    "                                  v4_valid_auc],\n",
    "                           'accuracy':[v1_train_acc,\n",
    "                                       v1_valid_acc,\n",
    "                                       v2_train_acc,\n",
    "                                       v2_valid_acc,\n",
    "                                       v3_train_acc,\n",
    "                                       v3_valid_acc,\n",
    "                                       v4_train_acc,\n",
    "                                       v4_valid_acc],\n",
    "                           'recall':[v1_train_rec,\n",
    "                                     v1_valid_rec,\n",
    "                                     v2_train_rec,\n",
    "                                     v2_valid_rec,\n",
    "                                     v3_train_rec,\n",
    "                                     v3_valid_rec,\n",
    "                                     v4_train_rec,\n",
    "                                     v4_valid_rec],\n",
    "                           'precision':[v1_train_prec,\n",
    "                                        v1_valid_prec,\n",
    "                                        v2_train_prec,\n",
    "                                        v2_valid_prec,\n",
    "                                        v3_train_prec,\n",
    "                                        v3_valid_prec,\n",
    "                                        v4_train_prec,\n",
    "                                        v4_valid_prec],\n",
    "                           'specificity':[v1_train_spec,\n",
    "                                          v1_valid_spec,\n",
    "                                          v2_train_spec,\n",
    "                                          v2_valid_spec,\n",
    "                                          v3_train_spec,\n",
    "                                          v3_valid_spec,\n",
    "                                          v4_train_spec,\n",
    "                                          v4_valid_spec]})"
   ]
  },
  {
   "cell_type": "markdown",
   "id": "9340f08e",
   "metadata": {},
   "source": [
    "The performance metric chosen will be the AUC score of the validation set. It is the ideal score to compare models from different algorithms."
   ]
  },
  {
   "cell_type": "code",
   "execution_count": 54,
   "id": "426e890a",
   "metadata": {},
   "outputs": [
    {
     "data": {
      "image/png": "[encoded data removed]",
      "text/plain": [
       "<Figure size 1600x800 with 1 Axes>"
      ]
     },
     "metadata": {},
     "output_type": "display_data"
    }
   ],
   "source": [
    "# Plot\n",
    "sns.set_style(\"whitegrid\")\n",
    "plt.figure(figsize = (16, 8))\n",
    "\n",
    "# Barplot\n",
    "ax = sns.barplot(x = 'Classifier', y = 'auc', hue = 'data_set', data = df_results)\n",
    "ax.set_xlabel('Classificador', fontsize = 15)\n",
    "ax.set_ylabel('AUC', fontsize = 15)\n",
    "ax.tick_params(labelsize = 15)\n",
    "\n",
    "# Subtitles\n",
    "plt.legend(bbox_to_anchor = (1.05, 1), loc = 2, borderaxespad = 0., fontsize = 15)\n",
    "plt.show();"
   ]
  },
  {
   "cell_type": "code",
   "execution_count": 55,
   "id": "1948ae7c",
   "metadata": {},
   "outputs": [
    {
     "data": {
      "text/html": [
       "<div>\n",
       "<style scoped>\n",
       "    .dataframe tbody tr th:only-of-type {\n",
       "        vertical-align: middle;\n",
       "    }\n",
       "\n",
       "    .dataframe tbody tr th {\n",
       "        vertical-align: top;\n",
       "    }\n",
       "\n",
       "    .dataframe thead th {\n",
       "        text-align: right;\n",
       "    }\n",
       "</style>\n",
       "<table border=\"1\" class=\"dataframe\">\n",
       "  <thead>\n",
       "    <tr style=\"text-align: right;\">\n",
       "      <th></th>\n",
       "      <th>Classifier</th>\n",
       "      <th>data_set</th>\n",
       "      <th>auc</th>\n",
       "      <th>accuracy</th>\n",
       "      <th>recall</th>\n",
       "      <th>precision</th>\n",
       "      <th>specificity</th>\n",
       "    </tr>\n",
       "  </thead>\n",
       "  <tbody>\n",
       "    <tr>\n",
       "      <th>0</th>\n",
       "      <td>RL</td>\n",
       "      <td>trainning</td>\n",
       "      <td>0.607657</td>\n",
       "      <td>0.642502</td>\n",
       "      <td>0.518979</td>\n",
       "      <td>0.689256</td>\n",
       "      <td>0.766024</td>\n",
       "    </tr>\n",
       "    <tr>\n",
       "      <th>1</th>\n",
       "      <td>RL</td>\n",
       "      <td>validation</td>\n",
       "      <td>0.547859</td>\n",
       "      <td>0.688696</td>\n",
       "      <td>0.456897</td>\n",
       "      <td>0.313609</td>\n",
       "      <td>0.747277</td>\n",
       "    </tr>\n",
       "    <tr>\n",
       "      <th>2</th>\n",
       "      <td>NB</td>\n",
       "      <td>trainning</td>\n",
       "      <td>0.986086</td>\n",
       "      <td>0.942439</td>\n",
       "      <td>0.907281</td>\n",
       "      <td>0.975904</td>\n",
       "      <td>0.977598</td>\n",
       "    </tr>\n",
       "    <tr>\n",
       "      <th>3</th>\n",
       "      <td>NB</td>\n",
       "      <td>validation</td>\n",
       "      <td>0.979722</td>\n",
       "      <td>0.951884</td>\n",
       "      <td>0.908046</td>\n",
       "      <td>0.861035</td>\n",
       "      <td>0.962963</td>\n",
       "    </tr>\n",
       "    <tr>\n",
       "      <th>4</th>\n",
       "      <td>XGB</td>\n",
       "      <td>trainning</td>\n",
       "      <td>1.000000</td>\n",
       "      <td>1.000000</td>\n",
       "      <td>1.000000</td>\n",
       "      <td>1.000000</td>\n",
       "      <td>1.000000</td>\n",
       "    </tr>\n",
       "    <tr>\n",
       "      <th>5</th>\n",
       "      <td>XGB</td>\n",
       "      <td>validation</td>\n",
       "      <td>0.990499</td>\n",
       "      <td>0.957681</td>\n",
       "      <td>0.945402</td>\n",
       "      <td>0.859008</td>\n",
       "      <td>0.960784</td>\n",
       "    </tr>\n",
       "    <tr>\n",
       "      <th>6</th>\n",
       "      <td>XGB_O</td>\n",
       "      <td>trainning</td>\n",
       "      <td>1.000000</td>\n",
       "      <td>1.000000</td>\n",
       "      <td>1.000000</td>\n",
       "      <td>1.000000</td>\n",
       "      <td>1.000000</td>\n",
       "    </tr>\n",
       "    <tr>\n",
       "      <th>7</th>\n",
       "      <td>XGB_O</td>\n",
       "      <td>validation</td>\n",
       "      <td>0.991815</td>\n",
       "      <td>0.960580</td>\n",
       "      <td>0.945402</td>\n",
       "      <td>0.870370</td>\n",
       "      <td>0.964415</td>\n",
       "    </tr>\n",
       "  </tbody>\n",
       "</table>\n",
       "</div>"
      ],
      "text/plain": [
       "  Classifier    data_set       auc  accuracy    recall  precision  specificity\n",
       "0         RL   trainning  0.607657  0.642502  0.518979   0.689256     0.766024\n",
       "1         RL  validation  0.547859  0.688696  0.456897   0.313609     0.747277\n",
       "2         NB   trainning  0.986086  0.942439  0.907281   0.975904     0.977598\n",
       "3         NB  validation  0.979722  0.951884  0.908046   0.861035     0.962963\n",
       "4        XGB   trainning  1.000000  1.000000  1.000000   1.000000     1.000000\n",
       "5        XGB  validation  0.990499  0.957681  0.945402   0.859008     0.960784\n",
       "6      XGB_O   trainning  1.000000  1.000000  1.000000   1.000000     1.000000\n",
       "7      XGB_O  validation  0.991815  0.960580  0.945402   0.870370     0.964415"
      ]
     },
     "execution_count": 55,
     "metadata": {},
     "output_type": "execute_result"
    }
   ],
   "source": [
    "# Comparing models\n",
    "df_results"
   ]
  },
  {
   "cell_type": "code",
   "execution_count": 57,
   "id": "d2eb9ed6",
   "metadata": {
    "scrolled": true
   },
   "outputs": [
    {
     "data": {
      "text/html": [
       "<div>\n",
       "<style scoped>\n",
       "    .dataframe tbody tr th:only-of-type {\n",
       "        vertical-align: middle;\n",
       "    }\n",
       "\n",
       "    .dataframe tbody tr th {\n",
       "        vertical-align: top;\n",
       "    }\n",
       "\n",
       "    .dataframe thead th {\n",
       "        text-align: right;\n",
       "    }\n",
       "</style>\n",
       "<table border=\"1\" class=\"dataframe\">\n",
       "  <thead>\n",
       "    <tr style=\"text-align: right;\">\n",
       "      <th></th>\n",
       "      <th>Classifier</th>\n",
       "      <th>data_set</th>\n",
       "      <th>auc</th>\n",
       "      <th>accuracy</th>\n",
       "      <th>recall</th>\n",
       "      <th>precision</th>\n",
       "      <th>specificity</th>\n",
       "    </tr>\n",
       "  </thead>\n",
       "  <tbody>\n",
       "    <tr>\n",
       "      <th>7</th>\n",
       "      <td>XGB_O</td>\n",
       "      <td>validation</td>\n",
       "      <td>0.991815</td>\n",
       "      <td>0.960580</td>\n",
       "      <td>0.945402</td>\n",
       "      <td>0.870370</td>\n",
       "      <td>0.964415</td>\n",
       "    </tr>\n",
       "    <tr>\n",
       "      <th>5</th>\n",
       "      <td>XGB</td>\n",
       "      <td>validation</td>\n",
       "      <td>0.990499</td>\n",
       "      <td>0.957681</td>\n",
       "      <td>0.945402</td>\n",
       "      <td>0.859008</td>\n",
       "      <td>0.960784</td>\n",
       "    </tr>\n",
       "    <tr>\n",
       "      <th>3</th>\n",
       "      <td>NB</td>\n",
       "      <td>validation</td>\n",
       "      <td>0.979722</td>\n",
       "      <td>0.951884</td>\n",
       "      <td>0.908046</td>\n",
       "      <td>0.861035</td>\n",
       "      <td>0.962963</td>\n",
       "    </tr>\n",
       "    <tr>\n",
       "      <th>1</th>\n",
       "      <td>RL</td>\n",
       "      <td>validation</td>\n",
       "      <td>0.547859</td>\n",
       "      <td>0.688696</td>\n",
       "      <td>0.456897</td>\n",
       "      <td>0.313609</td>\n",
       "      <td>0.747277</td>\n",
       "    </tr>\n",
       "  </tbody>\n",
       "</table>\n",
       "</div>"
      ],
      "text/plain": [
       "  Classifier    data_set       auc  accuracy    recall  precision  specificity\n",
       "7      XGB_O  validation  0.991815  0.960580  0.945402   0.870370     0.964415\n",
       "5        XGB  validation  0.990499  0.957681  0.945402   0.859008     0.960784\n",
       "3         NB  validation  0.979722  0.951884  0.908046   0.861035     0.962963\n",
       "1         RL  validation  0.547859  0.688696  0.456897   0.313609     0.747277"
      ]
     },
     "execution_count": 57,
     "metadata": {},
     "output_type": "execute_result"
    }
   ],
   "source": [
    "# Tabela de comparação dos modelos somente com métricas em validação e ordenado por AUC\n",
    "df_results[df_results['data_set'] == 'validation'].sort_values(by = 'auc', ascending = False)"
   ]
  },
  {
   "cell_type": "markdown",
   "id": "c01d6a75",
   "metadata": {},
   "source": [
    "Based on result and AUC metric, the best model is the Classifier XGBoost Optimized."
   ]
  },
  {
   "cell_type": "code",
   "execution_count": 58,
   "id": "d0289959",
   "metadata": {},
   "outputs": [],
   "source": [
    "# Saving best model\n",
    "pickle.dump(model_v4, open('best_model.pkl', 'wb'), protocol = 4)"
   ]
  },
  {
   "cell_type": "markdown",
   "id": "4e970a54",
   "metadata": {},
   "source": [
    "### Evaluation and checking metrics"
   ]
  },
  {
   "cell_type": "code",
   "execution_count": 69,
   "id": "31712ec5",
   "metadata": {},
   "outputs": [],
   "source": [
    "# Loading model, columns and scaler\n",
    "best_model = pickle.load(open('best_model.pkl', 'rb'))\n",
    "cols_input = pickle.load(open('cols_input.sav', 'rb'))\n",
    "scaler =pickle.load(open('scaler.sav', 'rb'))\n",
    "\n",
    "# load dataset\n",
    "df_train = pd.read_csv('train_dataset.csv')\n",
    "df_valid = pd.read_csv('valid_dataset.csv')\n",
    "df_test = pd.read_csv('test_dataset.csv')\n",
    "\n",
    "# Creatig Matrix X and Y\n",
    "\n",
    "# X\n",
    "X_train = df_train[cols_input].values\n",
    "X_valid = df_valid[cols_input].values\n",
    "X_test = df_test[cols_input].values\n",
    "\n",
    "# Y\n",
    "y_train = df_train['target_variable'].values\n",
    "y_valid = df_valid['target_variable'].values\n",
    "y_test = df_test['target_variable'].values\n",
    "\n",
    "# Applying \n",
    "X_train_tf = scaler.transform(X_train)\n",
    "X_valid_tf = scaler.transform(X_valid)\n",
    "X_test_tf = scaler.transform(X_test)"
   ]
  },
  {
   "cell_type": "code",
   "execution_count": 70,
   "id": "87c6a6e5",
   "metadata": {},
   "outputs": [],
   "source": [
    "# Calculating preditions through probability\n",
    "y_train_preds = best_model.predict_proba(X_train_tf)[:,1]\n",
    "y_valid_preds = best_model.predict_proba(X_valid_tf)[:,1]\n",
    "y_test_preds = best_model.predict_proba(X_test_tf)[:,1]"
   ]
  },
  {
   "cell_type": "code",
   "execution_count": 71,
   "id": "542ba121",
   "metadata": {},
   "outputs": [
    {
     "name": "stdout",
     "output_type": "stream",
     "text": [
      "\n",
      "Trainning:\n",
      "\n",
      "AUC:0.992\n",
      "Accuracy:0.961\n",
      "Recal:0.945\n",
      "Precision:0.870\n",
      "Specificity:0.964\n",
      "\n",
      "\n",
      "Test:\n",
      "\n",
      "AUC:0.993\n",
      "Accuracy:0.964\n",
      "Recal:0.954\n",
      "Precision:0.877\n",
      "Specificity:0.967\n",
      "\n"
     ]
    }
   ],
   "source": [
    "#Checking perfom\n",
    "thresh = 0.5\n",
    "\n",
    "print('\\nTrainning:\\n')\n",
    "valid_auc, valid_accuracy, valid_recall, valid_precision, valid_specificity = print_report(y_valid, y_valid_preds, thresh)\n",
    "\n",
    "\n",
    "print('\\nTest:\\n')\n",
    "test_auc, test_accuracy, test_recall, test_precision, test_specificity = print_report(y_test, y_test_preds, thresh)"
   ]
  },
  {
   "cell_type": "markdown",
   "id": "831f68c5",
   "metadata": {},
   "source": [
    "#### ROC Curve\n",
    "\n",
    "The Receiver Operating Characteristic (ROC) curve is a graphical tool used to evaluate the performance of binary classification models. It is plotted using the true positive rate (sensitivity) against the false positive rate (specificity) for different cutoff points. Essentially, the ROC curve shows how well the model is able to distinguish between two classes (e.g. positive and negative).\n",
    "\n",
    "The curve can help in choosing the most appropriate cutoff point, which balances capturing the maximum number of true positives while minimizing false positives. One of the most commonly used indicators to measure the quality of a model based on the ROC curve is the area under the curve (AUC). An AUC of 1.0 represents a perfect model, while an AUC of 0.5 indicates performance no better than chance."
   ]
  },
  {
   "cell_type": "code",
   "execution_count": 84,
   "id": "bf16cb36",
   "metadata": {},
   "outputs": [
    {
     "data": {
      "image/png": "[encoded data removed]",
      "text/plain": [
       "<Figure size 1600x1000 with 1 Axes>"
      ]
     },
     "metadata": {},
     "output_type": "display_data"
    }
   ],
   "source": [
    "# Calculating ROC curve for train dataset\n",
    "fpr_train, tpr_train, thresholds_train = roc_curve(y_train, y_train_preds)\n",
    "auc_train = roc_auc_score(y_train, y_train_preds)\n",
    "\n",
    "# Calculating ROC curve for validation dataset\n",
    "fpr_valid, tpr_valid, thresholds_valid = roc_curve(y_valid, y_valid_preds)\n",
    "auc_valid = roc_auc_score(y_valid, y_valid_preds)\n",
    "\n",
    "# Calculating ROC curve for test datset\n",
    "fpr_test, tpr_test, thresholds_test = roc_curve(y_test, y_test_preds)\n",
    "auc_test = roc_auc_score(y_test, y_test_preds)\n",
    "\n",
    "# Plot\n",
    "\n",
    "plt.figure(figsize=(16,10))\n",
    "plt.plot(fpr_train, tpr_train, 'r-', label = 'AUC Train: %.3f'% auc_train)\n",
    "plt.plot(fpr_valid, tpr_valid, 'b-', label = 'AUC Validation: %.3f'% auc_valid)\n",
    "plt.plot(fpr_test, tpr_test, 'g-', label = 'AUC Test: %.3f'% auc_test)\n",
    "plt.plot([0,1],[0,1],'1k--')\n",
    "plt.xlabel('False Positive Rate')\n",
    "plt.ylabel('True Positive Rate')\n",
    "plt.legend()\n",
    "plt.show()"
   ]
  },
  {
   "cell_type": "markdown",
   "id": "aa862243",
   "metadata": {},
   "source": [
    "### Deploy and using new data"
   ]
  },
  {
   "cell_type": "code",
   "execution_count": 79,
   "id": "72bdc8d3",
   "metadata": {},
   "outputs": [],
   "source": [
    "# Load new data of a new machine (not used before)\n",
    "new_machine = pd.read_csv('new_data.csv')"
   ]
  },
  {
   "cell_type": "code",
   "execution_count": 80,
   "id": "602e407c",
   "metadata": {},
   "outputs": [
    {
     "data": {
      "text/html": [
       "<div>\n",
       "<style scoped>\n",
       "    .dataframe tbody tr th:only-of-type {\n",
       "        vertical-align: middle;\n",
       "    }\n",
       "\n",
       "    .dataframe tbody tr th {\n",
       "        vertical-align: top;\n",
       "    }\n",
       "\n",
       "    .dataframe thead th {\n",
       "        text-align: right;\n",
       "    }\n",
       "</style>\n",
       "<table border=\"1\" class=\"dataframe\">\n",
       "  <thead>\n",
       "    <tr style=\"text-align: right;\">\n",
       "      <th></th>\n",
       "      <th>X1</th>\n",
       "      <th>X2</th>\n",
       "      <th>X3</th>\n",
       "      <th>X4</th>\n",
       "      <th>X5</th>\n",
       "      <th>X6</th>\n",
       "      <th>X7</th>\n",
       "      <th>X8</th>\n",
       "      <th>X9</th>\n",
       "      <th>X10</th>\n",
       "      <th>...</th>\n",
       "      <th>X169</th>\n",
       "      <th>X170</th>\n",
       "      <th>X171</th>\n",
       "      <th>X172</th>\n",
       "      <th>X173</th>\n",
       "      <th>X174</th>\n",
       "      <th>X175</th>\n",
       "      <th>X176</th>\n",
       "      <th>X177</th>\n",
       "      <th>X178</th>\n",
       "    </tr>\n",
       "  </thead>\n",
       "  <tbody>\n",
       "    <tr>\n",
       "      <th>0</th>\n",
       "      <td>51</td>\n",
       "      <td>43</td>\n",
       "      <td>34</td>\n",
       "      <td>21</td>\n",
       "      <td>13</td>\n",
       "      <td>12</td>\n",
       "      <td>6</td>\n",
       "      <td>4</td>\n",
       "      <td>1</td>\n",
       "      <td>-4</td>\n",
       "      <td>...</td>\n",
       "      <td>-41</td>\n",
       "      <td>-16</td>\n",
       "      <td>2</td>\n",
       "      <td>22</td>\n",
       "      <td>33</td>\n",
       "      <td>45</td>\n",
       "      <td>56</td>\n",
       "      <td>67</td>\n",
       "      <td>69</td>\n",
       "      <td>63</td>\n",
       "    </tr>\n",
       "  </tbody>\n",
       "</table>\n",
       "<p>1 rows × 178 columns</p>\n",
       "</div>"
      ],
      "text/plain": [
       "   X1  X2  X3  X4  X5  X6  X7  X8  X9  X10  ...  X169  X170  X171  X172  X173  \\\n",
       "0  51  43  34  21  13  12   6   4   1   -4  ...   -41   -16     2    22    33   \n",
       "\n",
       "   X174  X175  X176  X177  X178  \n",
       "0    45    56    67    69    63  \n",
       "\n",
       "[1 rows x 178 columns]"
      ]
     },
     "execution_count": 80,
     "metadata": {},
     "output_type": "execute_result"
    }
   ],
   "source": [
    "new_machine.head()"
   ]
  },
  {
   "cell_type": "code",
   "execution_count": 81,
   "id": "69477bc5",
   "metadata": {},
   "outputs": [
    {
     "name": "stderr",
     "output_type": "stream",
     "text": [
      "C:\\Users\\Elisa\\anaconda3\\lib\\site-packages\\sklearn\\base.py:443: UserWarning: X has feature names, but StandardScaler was fitted without feature names\n",
      "  warnings.warn(\n"
     ]
    }
   ],
   "source": [
    "# Applying standardization for new data\n",
    "new_machine_scaled = scaler.transform(new_machine)"
   ]
  },
  {
   "cell_type": "code",
   "execution_count": 82,
   "id": "06275a0a",
   "metadata": {},
   "outputs": [
    {
     "data": {
      "text/plain": [
       "array([[ 0.2989238 ,  0.25729926,  0.21312589,  0.14393314,  0.09292314,\n",
       "         0.07348356,  0.04028097,  0.03188829,  0.0146345 , -0.01638206,\n",
       "        -0.06289009, -0.09682119, -0.10811527, -0.09734583, -0.06918762,\n",
       "        -0.05333555, -0.05241357, -0.06158127, -0.04951774, -0.04711707,\n",
       "        -0.06793939, -0.04365624, -0.01226882,  0.00882946,  0.0122272 ,\n",
       "         0.01774845,  0.04309674,  0.06311126,  0.08743991,  0.08067011,\n",
       "         0.06237814,  0.01343702,  0.00129145, -0.01348964,  0.00769671,\n",
       "         0.03177923,  0.06588953,  0.10556758,  0.12558161,  0.16341563,\n",
       "         0.1750718 ,  0.18934908,  0.18036723,  0.19584866,  0.19061953,\n",
       "         0.18478952,  0.17315333,  0.13067355,  0.06822518,  0.02019806,\n",
       "         0.00668434, -0.04636279, -0.09767171, -0.13971598, -0.16362269,\n",
       "        -0.17969892, -0.18288035, -0.18478512, -0.17798489, -0.13775089,\n",
       "        -0.09687017, -0.05632734, -0.01850099, -0.03452237, -0.01996303,\n",
       "        -0.00972509,  0.0068219 ,  0.05327976,  0.07270808,  0.06215328,\n",
       "         0.0669479 ,  0.07285484,  0.04713935,  0.04079635,  0.04393412,\n",
       "         0.06337067,  0.05949618,  0.04882556,  0.0306031 ,  0.00395302,\n",
       "         0.0054511 ,  0.01751575,  0.0258331 , -0.00880347, -0.03026128,\n",
       "        -0.07817322, -0.13038034, -0.18795933, -0.23716251, -0.25655711,\n",
       "        -0.30026877, -0.31445543, -0.3454021 , -0.34601359, -0.33631721,\n",
       "        -0.26980379, -0.23630439, -0.21109957, -0.20384985, -0.21369146,\n",
       "        -0.23542368, -0.24588459, -0.23971863, -0.21653167, -0.19810464,\n",
       "        -0.14283843, -0.08964773, -0.0199554 ,  0.07010787,  0.14331625,\n",
       "         0.18747936,  0.22160152,  0.23677796,  0.20828459,  0.14983629,\n",
       "         0.0821437 ,  0.02929157, -0.03113352, -0.08711162, -0.11955732,\n",
       "        -0.15382906, -0.168881  , -0.15665073, -0.15237131, -0.13361979,\n",
       "        -0.1101509 , -0.09194367, -0.0706105 , -0.07227587,  0.0033988 ,\n",
       "         0.06169138,  0.1413481 ,  0.19076965,  0.22952432,  0.22267392,\n",
       "         0.18681901,  0.1550718 ,  0.12639831,  0.1202126 ,  0.09255464,\n",
       "         0.08394427,  0.07994067,  0.06059415,  0.05784275,  0.0491119 ,\n",
       "         0.02962812,  0.0427465 ,  0.0794522 ,  0.11486255,  0.12535166,\n",
       "         0.15941535,  0.15075316,  0.13281825,  0.09034394,  0.04550429,\n",
       "         0.00246779, -0.02519338, -0.06334013, -0.10416372, -0.16064038,\n",
       "        -0.17205385, -0.16601439, -0.20078647, -0.22348305, -0.26019828,\n",
       "        -0.25994813, -0.24747795, -0.19494701, -0.12399669, -0.01632386,\n",
       "         0.07044258,  0.16473623,  0.21834462,  0.2665699 ,  0.31444685,\n",
       "         0.36112579,  0.37043775,  0.33764001]])"
      ]
     },
     "execution_count": 82,
     "metadata": {},
     "output_type": "execute_result"
    }
   ],
   "source": [
    "new_machine_scaled"
   ]
  },
  {
   "cell_type": "code",
   "execution_count": 83,
   "id": "c5a063b6",
   "metadata": {},
   "outputs": [
    {
     "data": {
      "text/plain": [
       "array([0])"
      ]
     },
     "execution_count": 83,
     "metadata": {},
     "output_type": "execute_result"
    }
   ],
   "source": [
    "best_model.predict(new_machine_scaled)"
   ]
  },
  {
   "cell_type": "markdown",
   "id": "7ce1f920",
   "metadata": {},
   "source": [
    "According to the data from IoT sensors and the prediction model created, this machine does not need maintenance."
   ]
  }
 ],
 "metadata": {
  "kernelspec": {
   "display_name": "Python 3 (ipykernel)",
   "language": "python",
   "name": "python3"
  },
  "language_info": {
   "codemirror_mode": {
    "name": "ipython",
    "version": 3
   },
   "file_extension": ".py",
   "mimetype": "text/x-python",
   "name": "python",
   "nbconvert_exporter": "python",
   "pygments_lexer": "ipython3",
   "version": "3.9.13"
  }
 },
 "nbformat": 4,
 "nbformat_minor": 5
}
